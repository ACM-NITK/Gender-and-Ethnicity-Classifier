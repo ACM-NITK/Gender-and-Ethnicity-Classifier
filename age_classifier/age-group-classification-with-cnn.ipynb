{
 "cells": [
  {
   "cell_type": "code",
   "execution_count": 1,
   "metadata": {
    "_cell_guid": "b1076dfc-b9ad-4769-8c92-a6c4dae69d19",
    "_uuid": "8f2839f25d086af736a60e9eeb907d3b93b6e0e5"
   },
   "outputs": [
    {
     "name": "stderr",
     "output_type": "stream",
     "text": [
      "Using TensorFlow backend.\n"
     ]
    }
   ],
   "source": [
    "# This Python 3 environment comes with many helpful analytics libraries installed\n",
    "# It is defined by the kaggle/python docker image: https://github.com/kaggle/docker-python\n",
    "# For example, here's several helpful packages to load in \n",
    "\n",
    "import numpy as np # linear algebra\n",
    "import pandas as pd # data processing, CSV file I/O (e.g. pd.read_csv)\n",
    "import math\n",
    "import cv2\n",
    "import matplotlib.pyplot as plt\n",
    "import os\n",
    "import seaborn as sns\n",
    "import umap\n",
    "from PIL import Image\n",
    "from scipy import misc\n",
    "from os import listdir\n",
    "from os.path import isfile, join\n",
    "import numpy as np\n",
    "from scipy import misc\n",
    "from random import shuffle\n",
    "from collections import Counter\n",
    "import matplotlib.pyplot as plt\n",
    "from sklearn.decomposition import PCA\n",
    "from sklearn.manifold import TSNE\n",
    "import tensorflow as tf\n",
    "from keras.models import Sequential\n",
    "from keras.layers import Conv2D, MaxPooling2D\n",
    "from keras.layers import Activation, Dropout, Flatten, Dense\n",
    "from keras.utils.np_utils import to_categorical\n"
   ]
  },
  {
   "cell_type": "markdown",
   "metadata": {
    "_uuid": "f645a9329cf9f50db3f022f86a8e1b36d82c7d6e"
   },
   "source": [
    "We can split the data into Classes\n",
    "* Children (1-14) CLASS 0\n",
    "* Youth (14-25) CLASS 1\n",
    "*  ADULTS (25-40) CLASS 2\n",
    "*  Middle age (40-60) CLASS 3\n",
    "*  Very Old (>60) CLASS 4"
   ]
  },
  {
   "cell_type": "markdown",
   "metadata": {
    "_uuid": "4c70a5380bf6797dc26f7871f4101b4ed7ac0ff5"
   },
   "source": [
    "**CONVERT IMAGES TO VECTORS**"
   ]
  },
  {
   "cell_type": "code",
   "execution_count": 2,
   "metadata": {
    "_uuid": "c1af5a4236604a592e9d3671fc92111adfd9d5c6"
   },
   "outputs": [
    {
     "name": "stdout",
     "output_type": "stream",
     "text": [
      "23705\n"
     ]
    }
   ],
   "source": [
    "os.chdir('/kaggle/input/UTKFace/')\n",
    "temp = os.listdir()\n",
    "import fnmatch\n",
    "dataset = fnmatch.filter(temp, '*_*_*_*')\n",
    "m = len(dataset)\n",
    "print(m)\n",
    "shuffle(dataset)\n",
    "age = [int(i.split('_')[0])/10 for i in dataset]\n",
    "age = to_categorical(age,num_classes=12)\n",
    "X_data =[]\n",
    "for file in dataset:\n",
    "    face = cv2.imread(file)\n",
    "    face = cv2.resize(face, (128, 128) )\n",
    "    X_data.append(face)\n",
    "X = np.squeeze(X_data)"
   ]
  },
  {
   "cell_type": "code",
   "execution_count": 3,
   "metadata": {
    "_uuid": "4ef1802171fc2e95a502d0d0c0b044cc35347afe"
   },
   "outputs": [],
   "source": [
    "X = np.squeeze(X_data)"
   ]
  },
  {
   "cell_type": "code",
   "execution_count": 4,
   "metadata": {
    "_uuid": "8e9d1d7f7af28a1a93d4c7363a3cf327aaaa9836"
   },
   "outputs": [
    {
     "data": {
      "text/plain": [
       "(23705, 128, 128, 3)"
      ]
     },
     "execution_count": 4,
     "metadata": {},
     "output_type": "execute_result"
    }
   ],
   "source": [
    "X.shape"
   ]
  },
  {
   "cell_type": "code",
   "execution_count": 5,
   "metadata": {
    "_uuid": "9e5d1f69e53e414959ef1c75108921f7e7c240db"
   },
   "outputs": [],
   "source": [
    "# normalize data\n",
    "X = X.astype('float32')\n",
    "X /= 255\n"
   ]
  },
  {
   "cell_type": "code",
   "execution_count": 6,
   "metadata": {
    "_uuid": "52681dc1e9a073ef99069aa497b8743f49fa6392"
   },
   "outputs": [],
   "source": [
    "X_train=X[:7000]\n",
    "X_validate=X[7000:8500]\n",
    "X_test=X[8500:]\n",
    "age = np.squeeze(age)\n",
    "Y_train=age[:7000]\n",
    "Y_validate=age[7000:8500]\n",
    "Y_test=age[8500:]"
   ]
  },
  {
   "cell_type": "code",
   "execution_count": 7,
   "metadata": {
    "_uuid": "42d525a096c18bfea6a2f09cd971e715bd3e133e"
   },
   "outputs": [
    {
     "data": {
      "text/plain": [
       "True"
      ]
     },
     "execution_count": 7,
     "metadata": {},
     "output_type": "execute_result"
    }
   ],
   "source": [
    "len(X_train)+len(X_test) + len(X_validate) == len(X)\n"
   ]
  },
  {
   "cell_type": "code",
   "execution_count": 8,
   "metadata": {
    "_uuid": "576a2b294ff9c8d8a8b9a4ebabbb3b3be90c3df7"
   },
   "outputs": [
    {
     "name": "stdout",
     "output_type": "stream",
     "text": [
      "_________________________________________________________________\n",
      "Layer (type)                 Output Shape              Param #   \n",
      "=================================================================\n",
      "conv2d_1 (Conv2D)            (None, 128, 128, 64)      9472      \n",
      "_________________________________________________________________\n",
      "max_pooling2d_1 (MaxPooling2 (None, 64, 64, 64)        0         \n",
      "_________________________________________________________________\n",
      "conv2d_2 (Conv2D)            (None, 64, 64, 32)        51232     \n",
      "_________________________________________________________________\n",
      "max_pooling2d_2 (MaxPooling2 (None, 32, 32, 32)        0         \n",
      "_________________________________________________________________\n",
      "conv2d_3 (Conv2D)            (None, 16, 16, 32)        9248      \n",
      "_________________________________________________________________\n",
      "max_pooling2d_3 (MaxPooling2 (None, 8, 8, 32)          0         \n",
      "_________________________________________________________________\n",
      "flatten_1 (Flatten)          (None, 2048)              0         \n",
      "_________________________________________________________________\n",
      "dense_1 (Dense)              (None, 526)               1077774   \n",
      "_________________________________________________________________\n",
      "dense_2 (Dense)              (None, 12)                6324      \n",
      "=================================================================\n",
      "Total params: 1,154,050\n",
      "Trainable params: 1,154,050\n",
      "Non-trainable params: 0\n",
      "_________________________________________________________________\n"
     ]
    }
   ],
   "source": [
    "import keras\n",
    "model=Sequential()\n",
    "model.add(Conv2D(64, (7, 7), padding=\"same\", activation=\"relu\", input_shape=(128, 128, 3)))\n",
    "model.add(MaxPooling2D(pool_size=(2, 2)))\n",
    "\n",
    "model.add(Conv2D(32, (5, 5), padding=\"same\", strides =(1, 1), activation=\"relu\"))\n",
    "model.add(MaxPooling2D(pool_size=(2, 2)))\n",
    "\n",
    "model.add(Conv2D(32, (3, 3), padding=\"same\", strides =(2, 2), activation=\"relu\"))\n",
    "model.add(MaxPooling2D(pool_size=(2, 2)))\n",
    "\n",
    "model.add(Flatten()) \n",
    "model.add(Dense(526, activation ='relu')) \n",
    "model.add(Dense(12, activation ='softmax')) \n",
    "\n",
    "model.compile(loss = keras.losses.categorical_crossentropy, \n",
    "              optimizer = keras.optimizers.SGD(lr = 0.01), \n",
    "              metrics =['accuracy']) \n",
    "\n",
    "# Take a look at the model summary\n",
    "model.summary()\n"
   ]
  },
  {
   "cell_type": "code",
   "execution_count": 9,
   "metadata": {
    "_uuid": "46157cdad9b7c25c5d910ed1bced00926b2d6b4f"
   },
   "outputs": [
    {
     "name": "stdout",
     "output_type": "stream",
     "text": [
      "Train on 7000 samples, validate on 1500 samples\n",
      "Epoch 1/50\n",
      "7000/7000 [==============================] - 11s 2ms/step - loss: 2.0146 - acc: 0.2863 - val_loss: 1.9568 - val_acc: 0.2340\n",
      "Epoch 2/50\n",
      "7000/7000 [==============================] - 5s 663us/step - loss: 1.9119 - acc: 0.3124 - val_loss: 1.9620 - val_acc: 0.2733\n",
      "Epoch 3/50\n",
      "7000/7000 [==============================] - 5s 670us/step - loss: 1.8653 - acc: 0.3321 - val_loss: 2.0621 - val_acc: 0.1607\n",
      "Epoch 4/50\n",
      "7000/7000 [==============================] - 5s 667us/step - loss: 1.8298 - acc: 0.3434 - val_loss: 1.8562 - val_acc: 0.3140\n",
      "Epoch 5/50\n",
      "7000/7000 [==============================] - 5s 668us/step - loss: 1.7863 - acc: 0.3617 - val_loss: 1.7488 - val_acc: 0.3680\n",
      "Epoch 6/50\n",
      "7000/7000 [==============================] - 5s 673us/step - loss: 1.7108 - acc: 0.3883 - val_loss: 1.8929 - val_acc: 0.3707\n",
      "Epoch 7/50\n",
      "7000/7000 [==============================] - 5s 672us/step - loss: 1.6614 - acc: 0.4067 - val_loss: 1.7565 - val_acc: 0.3807\n",
      "Epoch 8/50\n",
      "7000/7000 [==============================] - 5s 667us/step - loss: 1.6064 - acc: 0.4184 - val_loss: 1.6517 - val_acc: 0.4000\n",
      "Epoch 9/50\n",
      "7000/7000 [==============================] - 5s 675us/step - loss: 1.5493 - acc: 0.4363 - val_loss: 1.7607 - val_acc: 0.3487\n",
      "Epoch 10/50\n",
      "7000/7000 [==============================] - 5s 670us/step - loss: 1.5071 - acc: 0.4436 - val_loss: 1.6366 - val_acc: 0.3580\n",
      "Epoch 11/50\n",
      "7000/7000 [==============================] - 5s 679us/step - loss: 1.4750 - acc: 0.4554 - val_loss: 1.7428 - val_acc: 0.3873\n",
      "Epoch 12/50\n",
      "7000/7000 [==============================] - 5s 671us/step - loss: 1.4402 - acc: 0.4643 - val_loss: 1.5435 - val_acc: 0.4127\n",
      "Epoch 13/50\n",
      "7000/7000 [==============================] - 5s 671us/step - loss: 1.4060 - acc: 0.4757 - val_loss: 1.4485 - val_acc: 0.4593\n",
      "Epoch 14/50\n",
      "7000/7000 [==============================] - 5s 668us/step - loss: 1.3746 - acc: 0.4857 - val_loss: 1.4860 - val_acc: 0.4567\n",
      "Epoch 15/50\n",
      "7000/7000 [==============================] - 5s 674us/step - loss: 1.3543 - acc: 0.4966 - val_loss: 1.5333 - val_acc: 0.4453\n",
      "Epoch 16/50\n",
      "7000/7000 [==============================] - 5s 669us/step - loss: 1.3289 - acc: 0.4981 - val_loss: 1.4479 - val_acc: 0.4653\n",
      "Epoch 17/50\n",
      "7000/7000 [==============================] - 5s 667us/step - loss: 1.3034 - acc: 0.5047 - val_loss: 1.5336 - val_acc: 0.4380\n",
      "Epoch 18/50\n",
      "7000/7000 [==============================] - 5s 671us/step - loss: 1.2862 - acc: 0.5150 - val_loss: 1.4881 - val_acc: 0.4613\n",
      "Epoch 19/50\n",
      "7000/7000 [==============================] - 5s 673us/step - loss: 1.2639 - acc: 0.5241 - val_loss: 1.5676 - val_acc: 0.3760\n",
      "Epoch 20/50\n",
      "7000/7000 [==============================] - 5s 676us/step - loss: 1.2369 - acc: 0.5281 - val_loss: 1.5250 - val_acc: 0.4340\n",
      "Epoch 21/50\n",
      "7000/7000 [==============================] - 5s 674us/step - loss: 1.2129 - acc: 0.5440 - val_loss: 1.6067 - val_acc: 0.3807\n",
      "Epoch 22/50\n",
      "7000/7000 [==============================] - 5s 670us/step - loss: 1.1894 - acc: 0.5507 - val_loss: 1.5636 - val_acc: 0.3960\n",
      "Epoch 23/50\n",
      "7000/7000 [==============================] - 5s 672us/step - loss: 1.1574 - acc: 0.5629 - val_loss: 1.4078 - val_acc: 0.4787\n",
      "Epoch 24/50\n",
      "7000/7000 [==============================] - 5s 672us/step - loss: 1.1275 - acc: 0.5667 - val_loss: 1.4419 - val_acc: 0.4667\n",
      "Epoch 25/50\n",
      "7000/7000 [==============================] - 5s 670us/step - loss: 1.1173 - acc: 0.5730 - val_loss: 1.4383 - val_acc: 0.4540\n",
      "Epoch 26/50\n",
      "7000/7000 [==============================] - 5s 672us/step - loss: 1.0837 - acc: 0.5904 - val_loss: 1.5360 - val_acc: 0.4820\n",
      "Epoch 27/50\n",
      "7000/7000 [==============================] - 5s 671us/step - loss: 1.0525 - acc: 0.6079 - val_loss: 1.5100 - val_acc: 0.4107\n",
      "Epoch 28/50\n",
      "7000/7000 [==============================] - 5s 669us/step - loss: 1.0199 - acc: 0.6190 - val_loss: 1.4252 - val_acc: 0.4907\n",
      "Epoch 29/50\n",
      "7000/7000 [==============================] - 5s 671us/step - loss: 0.9932 - acc: 0.6283 - val_loss: 1.7723 - val_acc: 0.3553\n",
      "Epoch 30/50\n",
      "7000/7000 [==============================] - 5s 667us/step - loss: 0.9613 - acc: 0.6434 - val_loss: 1.4988 - val_acc: 0.4620\n",
      "Epoch 31/50\n",
      "7000/7000 [==============================] - 5s 677us/step - loss: 0.9186 - acc: 0.6620 - val_loss: 2.0300 - val_acc: 0.3707\n",
      "Epoch 32/50\n",
      "7000/7000 [==============================] - 5s 666us/step - loss: 0.8776 - acc: 0.6671 - val_loss: 1.9657 - val_acc: 0.3647\n",
      "Epoch 33/50\n",
      "7000/7000 [==============================] - 5s 670us/step - loss: 0.8438 - acc: 0.6820 - val_loss: 1.5638 - val_acc: 0.4660\n",
      "Epoch 34/50\n",
      "7000/7000 [==============================] - 5s 673us/step - loss: 0.8073 - acc: 0.7076 - val_loss: 2.0299 - val_acc: 0.4693\n",
      "Epoch 35/50\n",
      "7000/7000 [==============================] - 5s 669us/step - loss: 0.7726 - acc: 0.7149 - val_loss: 1.9319 - val_acc: 0.3587\n",
      "Epoch 36/50\n",
      "7000/7000 [==============================] - 5s 662us/step - loss: 0.6989 - acc: 0.7431 - val_loss: 1.8488 - val_acc: 0.4567\n",
      "Epoch 37/50\n",
      "7000/7000 [==============================] - 5s 663us/step - loss: 0.6783 - acc: 0.7564 - val_loss: 1.9474 - val_acc: 0.4560\n",
      "Epoch 38/50\n",
      "7000/7000 [==============================] - 5s 687us/step - loss: 0.6113 - acc: 0.7839 - val_loss: 2.2029 - val_acc: 0.4513\n",
      "Epoch 39/50\n",
      "7000/7000 [==============================] - 5s 665us/step - loss: 0.5966 - acc: 0.7821 - val_loss: 1.9771 - val_acc: 0.4353\n",
      "Epoch 40/50\n",
      "7000/7000 [==============================] - 5s 661us/step - loss: 0.4904 - acc: 0.8260 - val_loss: 2.7785 - val_acc: 0.4493\n",
      "Epoch 41/50\n",
      "7000/7000 [==============================] - 5s 659us/step - loss: 0.5233 - acc: 0.8127 - val_loss: 2.5254 - val_acc: 0.4293\n",
      "Epoch 42/50\n",
      "7000/7000 [==============================] - 5s 659us/step - loss: 0.4535 - acc: 0.8483 - val_loss: 2.2722 - val_acc: 0.3833\n",
      "Epoch 43/50\n",
      "7000/7000 [==============================] - 5s 665us/step - loss: 0.4381 - acc: 0.8597 - val_loss: 1.9907 - val_acc: 0.4440\n",
      "Epoch 44/50\n",
      "7000/7000 [==============================] - 5s 668us/step - loss: 0.3326 - acc: 0.8951 - val_loss: 2.4494 - val_acc: 0.4707\n",
      "Epoch 45/50\n",
      "7000/7000 [==============================] - 5s 672us/step - loss: 0.3391 - acc: 0.8897 - val_loss: 2.4023 - val_acc: 0.4527\n",
      "Epoch 46/50\n",
      "7000/7000 [==============================] - 5s 669us/step - loss: 0.2736 - acc: 0.9116 - val_loss: 3.7240 - val_acc: 0.4400\n",
      "Epoch 47/50\n",
      "7000/7000 [==============================] - 5s 667us/step - loss: 0.2831 - acc: 0.9179 - val_loss: 2.4196 - val_acc: 0.4380\n",
      "Epoch 48/50\n",
      "7000/7000 [==============================] - 5s 663us/step - loss: 0.1770 - acc: 0.9506 - val_loss: 2.4831 - val_acc: 0.4500\n",
      "Epoch 49/50\n",
      "7000/7000 [==============================] - 5s 661us/step - loss: 0.2401 - acc: 0.9357 - val_loss: 2.5020 - val_acc: 0.4787\n",
      "Epoch 50/50\n",
      "7000/7000 [==============================] - 5s 672us/step - loss: 0.0867 - acc: 0.9850 - val_loss: 2.7908 - val_acc: 0.4613\n"
     ]
    },
    {
     "data": {
      "text/plain": [
       "<keras.callbacks.History at 0x7f9cc5b247b8>"
      ]
     },
     "execution_count": 9,
     "metadata": {},
     "output_type": "execute_result"
    }
   ],
   "source": [
    "model.fit(X_train,\n",
    "         Y_train,\n",
    "         batch_size=64,\n",
    "         epochs=50,\n",
    "         validation_data=(X_validate, Y_validate),)"
   ]
  },
  {
   "cell_type": "code",
   "execution_count": 10,
   "metadata": {
    "_uuid": "f5a9d9c5e564361be910242f1d5a196e7a833f42"
   },
   "outputs": [
    {
     "name": "stdout",
     "output_type": "stream",
     "text": [
      "\n",
      " Test accuracy: 0.4609010194093528\n"
     ]
    }
   ],
   "source": [
    "# Evaluate the model on test set\n",
    "score = model.evaluate(X_test, Y_test, verbose=0)\n",
    "\n",
    "# Print test accuracy\n",
    "print('\\n', 'Test accuracy:', score[1])"
   ]
  }
 ],
 "metadata": {
  "kernelspec": {
   "display_name": "Python 3",
   "language": "python",
   "name": "python3"
  },
  "language_info": {
   "codemirror_mode": {
    "name": "ipython",
    "version": 3
   },
   "file_extension": ".py",
   "mimetype": "text/x-python",
   "name": "python",
   "nbconvert_exporter": "python",
   "pygments_lexer": "ipython3",
   "version": "3.6.6"
  }
 },
 "nbformat": 4,
 "nbformat_minor": 1
}
